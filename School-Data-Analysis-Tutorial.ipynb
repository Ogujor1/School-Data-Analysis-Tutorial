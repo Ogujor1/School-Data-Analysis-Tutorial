{
 "cells": [
  {
   "cell_type": "code",
   "execution_count": 1,
   "id": "d7bb6102",
   "metadata": {},
   "outputs": [],
   "source": [
    "import numpy as np\n",
    "import pandas as pd\n",
    "import matplotlib.pyplot as plt"
   ]
  },
  {
   "cell_type": "markdown",
   "id": "a8e646c0",
   "metadata": {},
   "source": [
    "# 1. Create a Python dictionary containing the following data for 8 students:"
   ]
  },
  {
   "cell_type": "code",
   "execution_count": 2,
   "id": "b790c5b2",
   "metadata": {},
   "outputs": [],
   "source": [
    "students_details = {\n",
    "    'student_id': [np.random.randint(2000, 3000),np.random.randint(2000, 3000),np.random.randint(2000, 3000),\n",
    "                   np.random.randint(2000, 3000), np.random.randint(2000, 3000), np.random.randint(2000, 3000),\n",
    "                   np.random.randint(2000, 3000), np.random.randint(2000, 3000)],\n",
    "    'student_name': ['Faith Gab', 'Eze Okiki', 'Saka Mellow', 'Mikel Fatimo', 'Caicedo Bruno', \n",
    "                    'MacAlister Garrey', 'Jude Darren', 'Vinicius Papilo'],\n",
    "    'sex': ['Female', 'Female', 'Male', 'Male', 'Male', 'Female', 'Male', 'Male'],\n",
    "    'math_score': [np.random.randint(10,100), np.nan, np.random.randint(10,100), np.random.randint(10,100),\n",
    "                    np.random.randint(10,100),np.random.randint(10,100), np.random.randint(10,100), np.random.randint(10,100)],\n",
    "    'science_score': [np.random.randint(10,100),np.random.randint(10,100), np.random.randint(10,100), np.random.randint(10,100),\n",
    "                    np.random.randint(10,100),np.random.randint(10,100), np.random.randint(10,100), np.random.randint(10,100)],\n",
    "    'english_score': [np.random.randint(10,100),np.random.randint(10,100), np.random.randint(10,100), np.random.randint(10,100),\n",
    "                    np.random.randint(10,100),np.random.randint(10,100), np.random.randint(10,100), np.nan],\n",
    "    'history_score': [np.random.randint(10,100),np.random.randint(10,100), np.random.randint(10,100), np.random.randint(10,100),\n",
    "                    np.random.randint(10,100),np.random.randint(10,100), np.random.randint(10,100), np.random.randint(10,100)],\n",
    "    'geography_score':[np.random.randint(10,100),np.random.randint(10,100), np.random.randint(10,100), np.random.randint(10,100),\n",
    "                    np.random.randint(10,100),np.nan, np.random.randint(10,100), np.random.randint(10,100)]\n",
    "}\n"
   ]
  },
  {
   "cell_type": "markdown",
   "id": "76635f64",
   "metadata": {},
   "source": [
    "# 2.. Create A DataFrame "
   ]
  },
  {
   "cell_type": "code",
   "execution_count": 3,
   "id": "0e842eb2",
   "metadata": {},
   "outputs": [
    {
     "data": {
      "text/html": [
       "<div>\n",
       "<style scoped>\n",
       "    .dataframe tbody tr th:only-of-type {\n",
       "        vertical-align: middle;\n",
       "    }\n",
       "\n",
       "    .dataframe tbody tr th {\n",
       "        vertical-align: top;\n",
       "    }\n",
       "\n",
       "    .dataframe thead th {\n",
       "        text-align: right;\n",
       "    }\n",
       "</style>\n",
       "<table border=\"1\" class=\"dataframe\">\n",
       "  <thead>\n",
       "    <tr style=\"text-align: right;\">\n",
       "      <th></th>\n",
       "      <th>student_id</th>\n",
       "      <th>student_name</th>\n",
       "      <th>sex</th>\n",
       "      <th>math_score</th>\n",
       "      <th>science_score</th>\n",
       "      <th>english_score</th>\n",
       "      <th>history_score</th>\n",
       "      <th>geography_score</th>\n",
       "    </tr>\n",
       "  </thead>\n",
       "  <tbody>\n",
       "    <tr>\n",
       "      <th>1</th>\n",
       "      <td>2959</td>\n",
       "      <td>Faith Gab</td>\n",
       "      <td>Female</td>\n",
       "      <td>31.0</td>\n",
       "      <td>10</td>\n",
       "      <td>58.0</td>\n",
       "      <td>49</td>\n",
       "      <td>83.0</td>\n",
       "    </tr>\n",
       "    <tr>\n",
       "      <th>2</th>\n",
       "      <td>2733</td>\n",
       "      <td>Eze Okiki</td>\n",
       "      <td>Female</td>\n",
       "      <td>NaN</td>\n",
       "      <td>35</td>\n",
       "      <td>16.0</td>\n",
       "      <td>46</td>\n",
       "      <td>29.0</td>\n",
       "    </tr>\n",
       "    <tr>\n",
       "      <th>3</th>\n",
       "      <td>2796</td>\n",
       "      <td>Saka Mellow</td>\n",
       "      <td>Male</td>\n",
       "      <td>40.0</td>\n",
       "      <td>95</td>\n",
       "      <td>45.0</td>\n",
       "      <td>77</td>\n",
       "      <td>43.0</td>\n",
       "    </tr>\n",
       "    <tr>\n",
       "      <th>4</th>\n",
       "      <td>2222</td>\n",
       "      <td>Mikel Fatimo</td>\n",
       "      <td>Male</td>\n",
       "      <td>76.0</td>\n",
       "      <td>63</td>\n",
       "      <td>72.0</td>\n",
       "      <td>80</td>\n",
       "      <td>49.0</td>\n",
       "    </tr>\n",
       "    <tr>\n",
       "      <th>5</th>\n",
       "      <td>2589</td>\n",
       "      <td>Caicedo Bruno</td>\n",
       "      <td>Male</td>\n",
       "      <td>40.0</td>\n",
       "      <td>73</td>\n",
       "      <td>59.0</td>\n",
       "      <td>65</td>\n",
       "      <td>24.0</td>\n",
       "    </tr>\n",
       "    <tr>\n",
       "      <th>6</th>\n",
       "      <td>2858</td>\n",
       "      <td>MacAlister Garrey</td>\n",
       "      <td>Female</td>\n",
       "      <td>39.0</td>\n",
       "      <td>98</td>\n",
       "      <td>49.0</td>\n",
       "      <td>79</td>\n",
       "      <td>NaN</td>\n",
       "    </tr>\n",
       "    <tr>\n",
       "      <th>7</th>\n",
       "      <td>2432</td>\n",
       "      <td>Jude Darren</td>\n",
       "      <td>Male</td>\n",
       "      <td>16.0</td>\n",
       "      <td>14</td>\n",
       "      <td>74.0</td>\n",
       "      <td>18</td>\n",
       "      <td>17.0</td>\n",
       "    </tr>\n",
       "    <tr>\n",
       "      <th>8</th>\n",
       "      <td>2622</td>\n",
       "      <td>Vinicius Papilo</td>\n",
       "      <td>Male</td>\n",
       "      <td>42.0</td>\n",
       "      <td>96</td>\n",
       "      <td>NaN</td>\n",
       "      <td>84</td>\n",
       "      <td>89.0</td>\n",
       "    </tr>\n",
       "  </tbody>\n",
       "</table>\n",
       "</div>"
      ],
      "text/plain": [
       "   student_id       student_name     sex  math_score  science_score  \\\n",
       "1        2959          Faith Gab  Female        31.0             10   \n",
       "2        2733          Eze Okiki  Female         NaN             35   \n",
       "3        2796        Saka Mellow    Male        40.0             95   \n",
       "4        2222       Mikel Fatimo    Male        76.0             63   \n",
       "5        2589      Caicedo Bruno    Male        40.0             73   \n",
       "6        2858  MacAlister Garrey  Female        39.0             98   \n",
       "7        2432        Jude Darren    Male        16.0             14   \n",
       "8        2622    Vinicius Papilo    Male        42.0             96   \n",
       "\n",
       "   english_score  history_score  geography_score  \n",
       "1           58.0             49             83.0  \n",
       "2           16.0             46             29.0  \n",
       "3           45.0             77             43.0  \n",
       "4           72.0             80             49.0  \n",
       "5           59.0             65             24.0  \n",
       "6           49.0             79              NaN  \n",
       "7           74.0             18             17.0  \n",
       "8            NaN             84             89.0  "
      ]
     },
     "execution_count": 3,
     "metadata": {},
     "output_type": "execute_result"
    }
   ],
   "source": [
    "index = [1,2,3,4,5,6,7,8]\n",
    "df = pd.DataFrame(students_details, index = index)\n",
    "df"
   ]
  },
  {
   "cell_type": "code",
   "execution_count": 4,
   "id": "7e3e6d48",
   "metadata": {},
   "outputs": [
    {
     "data": {
      "text/plain": [
       "(8, 8)"
      ]
     },
     "execution_count": 4,
     "metadata": {},
     "output_type": "execute_result"
    }
   ],
   "source": [
    "# Check the shape of the DataFrame\n",
    "\n",
    "df.shape"
   ]
  },
  {
   "cell_type": "code",
   "execution_count": 5,
   "id": "324b92c7",
   "metadata": {},
   "outputs": [
    {
     "data": {
      "text/plain": [
       "student_id         0\n",
       "student_name       0\n",
       "sex                0\n",
       "math_score         1\n",
       "science_score      0\n",
       "english_score      1\n",
       "history_score      0\n",
       "geography_score    1\n",
       "dtype: int64"
      ]
     },
     "execution_count": 5,
     "metadata": {},
     "output_type": "execute_result"
    }
   ],
   "source": [
    "# Check for missing values in each column and report the count of missing values\n",
    "\n",
    "df.isna().sum()"
   ]
  },
  {
   "cell_type": "code",
   "execution_count": 6,
   "id": "e63792a6",
   "metadata": {},
   "outputs": [
    {
     "data": {
      "text/plain": [
       "0"
      ]
     },
     "execution_count": 6,
     "metadata": {},
     "output_type": "execute_result"
    }
   ],
   "source": [
    "# Check for duplicates in the dataset and report the count of duplicates\n",
    "\n",
    "df.duplicated().sum()"
   ]
  },
  {
   "cell_type": "markdown",
   "id": "c2219ce3",
   "metadata": {},
   "source": [
    "### 3. Calculate and add a new column to the DataFrame for the \"Average Score,\" \n",
    "### which is the average of scores in all subjects for each student. "
   ]
  },
  {
   "cell_type": "code",
   "execution_count": 7,
   "id": "559dacd1",
   "metadata": {},
   "outputs": [
    {
     "data": {
      "text/html": [
       "<div>\n",
       "<style scoped>\n",
       "    .dataframe tbody tr th:only-of-type {\n",
       "        vertical-align: middle;\n",
       "    }\n",
       "\n",
       "    .dataframe tbody tr th {\n",
       "        vertical-align: top;\n",
       "    }\n",
       "\n",
       "    .dataframe thead th {\n",
       "        text-align: right;\n",
       "    }\n",
       "</style>\n",
       "<table border=\"1\" class=\"dataframe\">\n",
       "  <thead>\n",
       "    <tr style=\"text-align: right;\">\n",
       "      <th></th>\n",
       "      <th>student_id</th>\n",
       "      <th>student_name</th>\n",
       "      <th>sex</th>\n",
       "      <th>math_score</th>\n",
       "      <th>science_score</th>\n",
       "      <th>english_score</th>\n",
       "      <th>history_score</th>\n",
       "      <th>geography_score</th>\n",
       "    </tr>\n",
       "  </thead>\n",
       "  <tbody>\n",
       "    <tr>\n",
       "      <th>1</th>\n",
       "      <td>2959</td>\n",
       "      <td>Faith Gab</td>\n",
       "      <td>Female</td>\n",
       "      <td>31.0</td>\n",
       "      <td>10</td>\n",
       "      <td>58.0</td>\n",
       "      <td>49</td>\n",
       "      <td>83.0</td>\n",
       "    </tr>\n",
       "    <tr>\n",
       "      <th>2</th>\n",
       "      <td>2733</td>\n",
       "      <td>Eze Okiki</td>\n",
       "      <td>Female</td>\n",
       "      <td>0.0</td>\n",
       "      <td>35</td>\n",
       "      <td>16.0</td>\n",
       "      <td>46</td>\n",
       "      <td>29.0</td>\n",
       "    </tr>\n",
       "    <tr>\n",
       "      <th>3</th>\n",
       "      <td>2796</td>\n",
       "      <td>Saka Mellow</td>\n",
       "      <td>Male</td>\n",
       "      <td>40.0</td>\n",
       "      <td>95</td>\n",
       "      <td>45.0</td>\n",
       "      <td>77</td>\n",
       "      <td>43.0</td>\n",
       "    </tr>\n",
       "    <tr>\n",
       "      <th>4</th>\n",
       "      <td>2222</td>\n",
       "      <td>Mikel Fatimo</td>\n",
       "      <td>Male</td>\n",
       "      <td>76.0</td>\n",
       "      <td>63</td>\n",
       "      <td>72.0</td>\n",
       "      <td>80</td>\n",
       "      <td>49.0</td>\n",
       "    </tr>\n",
       "    <tr>\n",
       "      <th>5</th>\n",
       "      <td>2589</td>\n",
       "      <td>Caicedo Bruno</td>\n",
       "      <td>Male</td>\n",
       "      <td>40.0</td>\n",
       "      <td>73</td>\n",
       "      <td>59.0</td>\n",
       "      <td>65</td>\n",
       "      <td>24.0</td>\n",
       "    </tr>\n",
       "    <tr>\n",
       "      <th>6</th>\n",
       "      <td>2858</td>\n",
       "      <td>MacAlister Garrey</td>\n",
       "      <td>Female</td>\n",
       "      <td>39.0</td>\n",
       "      <td>98</td>\n",
       "      <td>49.0</td>\n",
       "      <td>79</td>\n",
       "      <td>0.0</td>\n",
       "    </tr>\n",
       "    <tr>\n",
       "      <th>7</th>\n",
       "      <td>2432</td>\n",
       "      <td>Jude Darren</td>\n",
       "      <td>Male</td>\n",
       "      <td>16.0</td>\n",
       "      <td>14</td>\n",
       "      <td>74.0</td>\n",
       "      <td>18</td>\n",
       "      <td>17.0</td>\n",
       "    </tr>\n",
       "    <tr>\n",
       "      <th>8</th>\n",
       "      <td>2622</td>\n",
       "      <td>Vinicius Papilo</td>\n",
       "      <td>Male</td>\n",
       "      <td>42.0</td>\n",
       "      <td>96</td>\n",
       "      <td>0.0</td>\n",
       "      <td>84</td>\n",
       "      <td>89.0</td>\n",
       "    </tr>\n",
       "  </tbody>\n",
       "</table>\n",
       "</div>"
      ],
      "text/plain": [
       "   student_id       student_name     sex  math_score  science_score  \\\n",
       "1        2959          Faith Gab  Female        31.0             10   \n",
       "2        2733          Eze Okiki  Female         0.0             35   \n",
       "3        2796        Saka Mellow    Male        40.0             95   \n",
       "4        2222       Mikel Fatimo    Male        76.0             63   \n",
       "5        2589      Caicedo Bruno    Male        40.0             73   \n",
       "6        2858  MacAlister Garrey  Female        39.0             98   \n",
       "7        2432        Jude Darren    Male        16.0             14   \n",
       "8        2622    Vinicius Papilo    Male        42.0             96   \n",
       "\n",
       "   english_score  history_score  geography_score  \n",
       "1           58.0             49             83.0  \n",
       "2           16.0             46             29.0  \n",
       "3           45.0             77             43.0  \n",
       "4           72.0             80             49.0  \n",
       "5           59.0             65             24.0  \n",
       "6           49.0             79              0.0  \n",
       "7           74.0             18             17.0  \n",
       "8            0.0             84             89.0  "
      ]
     },
     "execution_count": 7,
     "metadata": {},
     "output_type": "execute_result"
    }
   ],
   "source": [
    "# replace the nan(Not a number)\n",
    "\n",
    "df = df.fillna(0)\n",
    "df"
   ]
  },
  {
   "cell_type": "code",
   "execution_count": 8,
   "id": "a47d15da",
   "metadata": {},
   "outputs": [
    {
     "data": {
      "text/html": [
       "<div>\n",
       "<style scoped>\n",
       "    .dataframe tbody tr th:only-of-type {\n",
       "        vertical-align: middle;\n",
       "    }\n",
       "\n",
       "    .dataframe tbody tr th {\n",
       "        vertical-align: top;\n",
       "    }\n",
       "\n",
       "    .dataframe thead th {\n",
       "        text-align: right;\n",
       "    }\n",
       "</style>\n",
       "<table border=\"1\" class=\"dataframe\">\n",
       "  <thead>\n",
       "    <tr style=\"text-align: right;\">\n",
       "      <th></th>\n",
       "      <th>student_id</th>\n",
       "      <th>student_name</th>\n",
       "      <th>sex</th>\n",
       "      <th>math_score</th>\n",
       "      <th>science_score</th>\n",
       "      <th>english_score</th>\n",
       "      <th>history_score</th>\n",
       "      <th>geography_score</th>\n",
       "      <th>average_score</th>\n",
       "    </tr>\n",
       "  </thead>\n",
       "  <tbody>\n",
       "    <tr>\n",
       "      <th>1</th>\n",
       "      <td>2959</td>\n",
       "      <td>Faith Gab</td>\n",
       "      <td>Female</td>\n",
       "      <td>31.0</td>\n",
       "      <td>10</td>\n",
       "      <td>58.0</td>\n",
       "      <td>49</td>\n",
       "      <td>83.0</td>\n",
       "      <td>46.2</td>\n",
       "    </tr>\n",
       "    <tr>\n",
       "      <th>2</th>\n",
       "      <td>2733</td>\n",
       "      <td>Eze Okiki</td>\n",
       "      <td>Female</td>\n",
       "      <td>0.0</td>\n",
       "      <td>35</td>\n",
       "      <td>16.0</td>\n",
       "      <td>46</td>\n",
       "      <td>29.0</td>\n",
       "      <td>25.2</td>\n",
       "    </tr>\n",
       "    <tr>\n",
       "      <th>3</th>\n",
       "      <td>2796</td>\n",
       "      <td>Saka Mellow</td>\n",
       "      <td>Male</td>\n",
       "      <td>40.0</td>\n",
       "      <td>95</td>\n",
       "      <td>45.0</td>\n",
       "      <td>77</td>\n",
       "      <td>43.0</td>\n",
       "      <td>60.0</td>\n",
       "    </tr>\n",
       "    <tr>\n",
       "      <th>4</th>\n",
       "      <td>2222</td>\n",
       "      <td>Mikel Fatimo</td>\n",
       "      <td>Male</td>\n",
       "      <td>76.0</td>\n",
       "      <td>63</td>\n",
       "      <td>72.0</td>\n",
       "      <td>80</td>\n",
       "      <td>49.0</td>\n",
       "      <td>68.0</td>\n",
       "    </tr>\n",
       "    <tr>\n",
       "      <th>5</th>\n",
       "      <td>2589</td>\n",
       "      <td>Caicedo Bruno</td>\n",
       "      <td>Male</td>\n",
       "      <td>40.0</td>\n",
       "      <td>73</td>\n",
       "      <td>59.0</td>\n",
       "      <td>65</td>\n",
       "      <td>24.0</td>\n",
       "      <td>52.2</td>\n",
       "    </tr>\n",
       "    <tr>\n",
       "      <th>6</th>\n",
       "      <td>2858</td>\n",
       "      <td>MacAlister Garrey</td>\n",
       "      <td>Female</td>\n",
       "      <td>39.0</td>\n",
       "      <td>98</td>\n",
       "      <td>49.0</td>\n",
       "      <td>79</td>\n",
       "      <td>0.0</td>\n",
       "      <td>53.0</td>\n",
       "    </tr>\n",
       "    <tr>\n",
       "      <th>7</th>\n",
       "      <td>2432</td>\n",
       "      <td>Jude Darren</td>\n",
       "      <td>Male</td>\n",
       "      <td>16.0</td>\n",
       "      <td>14</td>\n",
       "      <td>74.0</td>\n",
       "      <td>18</td>\n",
       "      <td>17.0</td>\n",
       "      <td>27.8</td>\n",
       "    </tr>\n",
       "    <tr>\n",
       "      <th>8</th>\n",
       "      <td>2622</td>\n",
       "      <td>Vinicius Papilo</td>\n",
       "      <td>Male</td>\n",
       "      <td>42.0</td>\n",
       "      <td>96</td>\n",
       "      <td>0.0</td>\n",
       "      <td>84</td>\n",
       "      <td>89.0</td>\n",
       "      <td>62.2</td>\n",
       "    </tr>\n",
       "  </tbody>\n",
       "</table>\n",
       "</div>"
      ],
      "text/plain": [
       "   student_id       student_name     sex  math_score  science_score  \\\n",
       "1        2959          Faith Gab  Female        31.0             10   \n",
       "2        2733          Eze Okiki  Female         0.0             35   \n",
       "3        2796        Saka Mellow    Male        40.0             95   \n",
       "4        2222       Mikel Fatimo    Male        76.0             63   \n",
       "5        2589      Caicedo Bruno    Male        40.0             73   \n",
       "6        2858  MacAlister Garrey  Female        39.0             98   \n",
       "7        2432        Jude Darren    Male        16.0             14   \n",
       "8        2622    Vinicius Papilo    Male        42.0             96   \n",
       "\n",
       "   english_score  history_score  geography_score  average_score  \n",
       "1           58.0             49             83.0           46.2  \n",
       "2           16.0             46             29.0           25.2  \n",
       "3           45.0             77             43.0           60.0  \n",
       "4           72.0             80             49.0           68.0  \n",
       "5           59.0             65             24.0           52.2  \n",
       "6           49.0             79              0.0           53.0  \n",
       "7           74.0             18             17.0           27.8  \n",
       "8            0.0             84             89.0           62.2  "
      ]
     },
     "execution_count": 8,
     "metadata": {},
     "output_type": "execute_result"
    }
   ],
   "source": [
    "# Create a new column, which is the Average score of all the subjects for each student\n",
    "avg_score = df[['math_score', 'science_score', 'english_score', 'history_score', 'geography_score']].agg(['mean'], axis=1)\n",
    "df.insert(8, 'average_score', avg_score)\n",
    "df"
   ]
  },
  {
   "cell_type": "code",
   "execution_count": 9,
   "id": "ad21bc4c",
   "metadata": {},
   "outputs": [
    {
     "name": "stdout",
     "output_type": "stream",
     "text": [
      "math_score    35.5\n",
      "dtype: float64\n",
      "science_score    60.5\n",
      "dtype: float64\n",
      "history_score    62.25\n",
      "dtype: float64\n",
      "geography_score    41.75\n",
      "dtype: float64\n"
     ]
    }
   ],
   "source": [
    "# Mean (average) Score for each subject\n",
    "print(f\"{df[['math_score']].mean()}\")\n",
    "print(f\"{df[['science_score']].mean()}\")\n",
    "print(f\"{df[['history_score']].mean()}\")\n",
    "print(f\"{df[['geography_score']].mean()}\")"
   ]
  },
  {
   "cell_type": "code",
   "execution_count": 10,
   "id": "fce2e0e6",
   "metadata": {},
   "outputs": [
    {
     "name": "stdout",
     "output_type": "stream",
     "text": [
      "math_score    76.0\n",
      "dtype: float64\n",
      "science_score    98\n",
      "dtype: int64\n",
      "history_score    84\n",
      "dtype: int64\n",
      "geography_score    89.0\n",
      "dtype: float64\n"
     ]
    }
   ],
   "source": [
    "# Max Score for each subject\n",
    "\n",
    "print(f\"{df[['math_score']].max()}\")\n",
    "print(f\"{df[['science_score']].max()}\")\n",
    "print(f\"{df[['history_score']].max()}\")\n",
    "print(f\"{df[['geography_score']].max()}\")"
   ]
  },
  {
   "cell_type": "code",
   "execution_count": 11,
   "id": "056a2153",
   "metadata": {},
   "outputs": [
    {
     "name": "stdout",
     "output_type": "stream",
     "text": [
      "math_score    0.0\n",
      "dtype: float64\n",
      "science_score    10\n",
      "dtype: int64\n",
      "history_score    18\n",
      "dtype: int64\n",
      "geography_score    0.0\n",
      "dtype: float64\n"
     ]
    }
   ],
   "source": [
    "# Min Score for each subject\n",
    "\n",
    "print(f\"{df[['math_score']].min()}\")\n",
    "print(f\"{df[['science_score']].min()}\")\n",
    "print(f\"{df[['history_score']].min()}\")\n",
    "print(f\"{df[['geography_score']].min()}\")"
   ]
  },
  {
   "cell_type": "code",
   "execution_count": 12,
   "id": "b2943934",
   "metadata": {},
   "outputs": [
    {
     "data": {
      "text/html": [
       "<div>\n",
       "<style scoped>\n",
       "    .dataframe tbody tr th:only-of-type {\n",
       "        vertical-align: middle;\n",
       "    }\n",
       "\n",
       "    .dataframe tbody tr th {\n",
       "        vertical-align: top;\n",
       "    }\n",
       "\n",
       "    .dataframe thead th {\n",
       "        text-align: right;\n",
       "    }\n",
       "</style>\n",
       "<table border=\"1\" class=\"dataframe\">\n",
       "  <thead>\n",
       "    <tr style=\"text-align: right;\">\n",
       "      <th></th>\n",
       "      <th>student_id</th>\n",
       "      <th>math_score</th>\n",
       "      <th>science_score</th>\n",
       "      <th>english_score</th>\n",
       "      <th>history_score</th>\n",
       "      <th>geography_score</th>\n",
       "      <th>average_score</th>\n",
       "    </tr>\n",
       "    <tr>\n",
       "      <th>sex</th>\n",
       "      <th></th>\n",
       "      <th></th>\n",
       "      <th></th>\n",
       "      <th></th>\n",
       "      <th></th>\n",
       "      <th></th>\n",
       "      <th></th>\n",
       "    </tr>\n",
       "  </thead>\n",
       "  <tbody>\n",
       "    <tr>\n",
       "      <th>Female</th>\n",
       "      <td>2,850.00</td>\n",
       "      <td>23.33</td>\n",
       "      <td>47.67</td>\n",
       "      <td>41.00</td>\n",
       "      <td>58.00</td>\n",
       "      <td>37.33</td>\n",
       "      <td>41.47</td>\n",
       "    </tr>\n",
       "    <tr>\n",
       "      <th>Male</th>\n",
       "      <td>2,532.20</td>\n",
       "      <td>42.80</td>\n",
       "      <td>68.20</td>\n",
       "      <td>50.00</td>\n",
       "      <td>64.80</td>\n",
       "      <td>44.40</td>\n",
       "      <td>54.04</td>\n",
       "    </tr>\n",
       "  </tbody>\n",
       "</table>\n",
       "</div>"
      ],
      "text/plain": [
       "        student_id  math_score  science_score  english_score  history_score  \\\n",
       "sex                                                                           \n",
       "Female    2,850.00       23.33          47.67          41.00          58.00   \n",
       "Male      2,532.20       42.80          68.20          50.00          64.80   \n",
       "\n",
       "        geography_score  average_score  \n",
       "sex                                     \n",
       "Female            37.33          41.47  \n",
       "Male              44.40          54.04  "
      ]
     },
     "execution_count": 12,
     "metadata": {},
     "output_type": "execute_result"
    }
   ],
   "source": [
    "pd.options.display.float_format = '{:,.2f}'.format \n",
    "reshaped_df = df.groupby('sex').mean()\n",
    "reshaped_df"
   ]
  },
  {
   "cell_type": "code",
   "execution_count": 13,
   "id": "56e88c8b",
   "metadata": {},
   "outputs": [
    {
     "data": {
      "text/plain": [
       "sex\n",
       "Female   41.47\n",
       "Male     54.04\n",
       "Name: average_score, dtype: float64"
      ]
     },
     "execution_count": 13,
     "metadata": {},
     "output_type": "execute_result"
    }
   ],
   "source": [
    "reshaped_df.groupby('sex').mean()['average_score']"
   ]
  },
  {
   "cell_type": "markdown",
   "id": "1ed637bd",
   "metadata": {},
   "source": [
    "# 4. Data Visualization:"
   ]
  },
  {
   "cell_type": "code",
   "execution_count": 15,
   "id": "aa92122f",
   "metadata": {},
   "outputs": [
    {
     "data": {
      "image/png": "[encoded data removed]",
      "text/plain": [
       "<Figure size 640x480 with 1 Axes>"
      ]
     },
     "metadata": {},
     "output_type": "display_data"
    }
   ],
   "source": [
    "x = reshaped_df[['math_score', 'science_score', 'english_score', 'history_score', 'geography_score']]\n",
    "x.plot(kind='bar')\n",
    "plt.show()"
   ]
  },
  {
   "cell_type": "code",
   "execution_count": null,
   "id": "a04fd9e9",
   "metadata": {},
   "outputs": [],
   "source": []
  }
 ],
 "metadata": {
  "kernelspec": {
   "display_name": "Python 3 (ipykernel)",
   "language": "python",
   "name": "python3"
  },
  "language_info": {
   "codemirror_mode": {
    "name": "ipython",
    "version": 3
   },
   "file_extension": ".py",
   "mimetype": "text/x-python",
   "name": "python",
   "nbconvert_exporter": "python",
   "pygments_lexer": "ipython3",
   "version": "3.9.13"
  }
 },
 "nbformat": 4,
 "nbformat_minor": 5
}
